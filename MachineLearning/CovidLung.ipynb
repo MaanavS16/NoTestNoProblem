{
  "nbformat": 4,
  "nbformat_minor": 0,
  "metadata": {
    "colab": {
      "name": "CovidLung.ipynb",
      "provenance": [],
      "authorship_tag": "ABX9TyPqJVT57UF4nTDb3AFfIA6h",
      "include_colab_link": true
    },
    "kernelspec": {
      "name": "python3",
      "display_name": "Python 3"
    },
    "accelerator": "GPU"
  },
  "cells": [
    {
      "cell_type": "markdown",
      "metadata": {
        "id": "view-in-github",
        "colab_type": "text"
      },
      "source": [
        "<a href=\"https://colab.research.google.com/github/mrchhaya/NoTestNoProblem/blob/master/MachineLearning/CovidLung.ipynb\" target=\"_parent\"><img src=\"https://colab.research.google.com/assets/colab-badge.svg\" alt=\"Open In Colab\"/></a>"
      ]
    },
    {
      "cell_type": "code",
      "metadata": {
        "id": "cOD3_KxAsaFO",
        "colab_type": "code",
        "colab": {}
      },
      "source": [
        "import tensorflow as tf\n",
        "import os\n",
        "import random\n",
        "import numpy as np\n",
        "from tensorflow.keras.applications.inception_v3 import InceptionV3\n",
        "from tensorflow.keras import layers\n",
        "# number of folds for k-fold cross validation\n",
        "k = 7\n",
        "\n",
        "# load file paths\n",
        "covidPositivePaths = os.listdir('COVID-POSITIVE')\n",
        "covidNegativePaths = os.listdir('COVID-NEGATIVE')\n"
      ],
      "execution_count": 1,
      "outputs": []
    },
    {
      "cell_type": "code",
      "metadata": {
        "id": "JZyFcDptxNXZ",
        "colab_type": "code",
        "colab": {}
      },
      "source": [
        "# Start Functions -------------\n",
        "\n",
        "# Find classification from file name\n",
        "def getClass(path):\n",
        "    if path in covidPositivePaths:\n",
        "        return 0\n",
        "    else:\n",
        "        return 1\n",
        "\n",
        "# get image byte array from path\n",
        "def loadImage(path, ts=(256, 256)):\n",
        "    img = tf.keras.preprocessing.image.load_img(path, target_size=ts)\n",
        "    return tf.keras.preprocessing.image.img_to_array(img)\n",
        "\n",
        "# Create tensorflow model\n",
        "def makeModel(transferLearning = False, modelOptimizer='adam', ts=(256, 256)):\n",
        "    if transferLearning:\n",
        "        pretrained_model = InceptionV3(\n",
        "        input_shape = (*ts, 3),\n",
        "        include_top = False,\n",
        "        weights = 'imagenet')\n",
        "\n",
        "        for layer in pretrained_model.layers:\n",
        "            layer.trainable = False\n",
        "\n",
        "        last_layer = pretrained_model.get_layer('mixed7')\n",
        "        #last_layer = pretrained_model.layers[145]\n",
        "        last_output = last_layer.output\n",
        "        x = layers.Flatten()(last_output)\n",
        "        x = layers.Dense(1024, activation='relu')(x)\n",
        "        x = layers.Dropout(0.2)(x)\n",
        "        x = layers.Dense(512, activation='relu')(x)\n",
        "        x = layers.Dropout(0.2)(x)\n",
        "        x = layers.Dense(1)(x)\n",
        "        output = layers.Activation('sigmoid', dtype='float32')(x)\n",
        "\n",
        "        model = tf.keras.Model(pretrained_model.input, output)\n",
        "    else:\n",
        "        # define Convolutional NN\n",
        "        model = tf.keras.Sequential([tf.keras.layers.Conv2D(16, (3,3), input_shape = (256, 256, 3), activation='relu'),\n",
        "                                 tf.keras.layers.MaxPooling2D(pool_size=(2,2)),\n",
        "                                 tf.keras.layers.Conv2D(32, (3,3), activation='relu'),\n",
        "                                 tf.keras.layers.MaxPooling2D(pool_size=(2,2)),\n",
        "                                 tf.keras.layers.Conv2D(64, (3,3), activation='relu'),\n",
        "                                 tf.keras.layers.MaxPooling2D(pool_size=(2,2)),\n",
        "                                 tf.keras.layers.Dropout(0.3),\n",
        "                                 tf.keras.layers.Flatten(),\n",
        "                                 tf.keras.layers.Dense(256, activation = 'relu'),\n",
        "                                 tf.keras.layers.Dense(128, activation='relu'),\n",
        "                                 tf.keras.layers.Dropout(.2),\n",
        "                                 tf.keras.layers.Dense(1, activation = 'sigmoid')])\n",
        "        # compile model\n",
        "    model.compile(optimizer = modelOptimizer, loss='binary_crossentropy', metrics=['acc'])\n",
        "    return model\n",
        "\n",
        "# End Functions --------------"
      ],
      "execution_count": 2,
      "outputs": []
    },
    {
      "cell_type": "code",
      "metadata": {
        "id": "I6vp2OLrxNfT",
        "colab_type": "code",
        "colab": {}
      },
      "source": [
        "# merge and shuffle paths\n",
        "mergedPaths = covidNegativePaths + covidPositivePaths\n",
        "random.shuffle(mergedPaths)\n",
        "\n",
        "\n",
        "# split mergedPaths in folds\n",
        "base_ammount = len(mergedPaths) // k\n",
        "folds = []\n",
        "for foldIndex in range(k):\n",
        "    if foldIndex != (k-1):\n",
        "        folds.append(mergedPaths[foldIndex*base_ammount:(foldIndex+1)*base_ammount + 1])\n",
        "    else:\n",
        "        folds.append(mergedPaths[foldIndex*base_ammount:])"
      ],
      "execution_count": 3,
      "outputs": []
    },
    {
      "cell_type": "code",
      "metadata": {
        "id": "mQ5BI9ZFxBTJ",
        "colab_type": "code",
        "colab": {}
      },
      "source": [
        "# create k models using k-1 folds for training and k folds for validation\n",
        "models = []\n",
        "foldLabels = []\n",
        "for fold in folds:\n",
        "    models.append(makeModel(transferLearning = True))\n",
        "    foldLabel = []\n",
        "    for item in fold:\n",
        "        foldLabel.append(getClass(item))  \n",
        "    foldLabels.append(foldLabel)"
      ],
      "execution_count": 6,
      "outputs": []
    },
    {
      "cell_type": "code",
      "metadata": {
        "id": "BieRLdyAxBZs",
        "colab_type": "code",
        "colab": {
          "base_uri": "https://localhost:8080/",
          "height": 52
        },
        "outputId": "88be4154-4c7b-470c-886e-38d68cf4c13f"
      },
      "source": [
        "# train all of the models with their respective folds\n",
        "foldHistory = []\n",
        "for i in range(k):\n",
        "    trainingData, trainingLabels, valData, valLabels = [], [], [], []\n",
        "    for j in range(k):\n",
        "        if j!= i:\n",
        "            trainingData += list(map(lambda x: loadImage('MERGED_FILES/' + x), folds[j]))\n",
        "            trainingLabels += foldLabels[j]\n",
        "        else:\n",
        "            valData += list(map(lambda x: loadImage('MERGED_FILES/' + x), folds[j]))\n",
        "            valLabels += foldLabels[j]\n",
        "    print('Training Fold {curr}/{total}'.format(curr = i+1, total=k))\n",
        "\n",
        "    trainingData = np.array(trainingData)\n",
        "    trainingLabels = np.array(trainingLabels)\n",
        "    valData = np.array(valData)\n",
        "    valLabels = np.array(valLabels)\n",
        "\n",
        "    history = models[i].fit(trainingData, trainingLabels, epochs=15, validation_data=(valData, valLabels))\n",
        "    foldHistory.append(history)"
      ],
      "execution_count": null,
      "outputs": [
        {
          "output_type": "stream",
          "text": [
            "Training Fold 1/7\n",
            "Epoch 1/15\n"
          ],
          "name": "stdout"
        }
      ]
    },
    {
      "cell_type": "code",
      "metadata": {
        "id": "vltARWCtxBib",
        "colab_type": "code",
        "colab": {}
      },
      "source": [
        "for i in range(k):\n",
        "    models[i].save('exportedModels/modelFold{}.h5'.format(i))"
      ],
      "execution_count": null,
      "outputs": []
    }
  ]
}